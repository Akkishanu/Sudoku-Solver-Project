{
 "cells": [
  {
   "cell_type": "code",
   "execution_count": 2,
   "id": "e2fde394",
   "metadata": {},
   "outputs": [
    {
     "name": "stdout",
     "output_type": "stream",
     "text": [
      "[[6 7 2 5 3 1 9 8 4]\n",
      " [8 3 1 6 4 9 2 5 7]\n",
      " [5 4 9 8 2 7 6 1 3]\n",
      " [4 1 5 9 6 2 3 7 8]\n",
      " [9 2 8 3 7 4 5 6 1]\n",
      " [7 6 3 1 8 5 4 2 9]\n",
      " [1 5 7 4 9 6 8 3 2]\n",
      " [3 9 6 2 1 8 7 4 5]\n",
      " [2 8 4 7 5 3 1 9 6]]\n"
     ]
    }
   ],
   "source": [
    "import numpy as np\n",
    "\n",
    "grid = [[6,7,2,0,0,1,9,8,4],\n",
    "       [0,3,1,0,0,0,0,0,0],\n",
    "       [0,4,0,0,2,0,0,0,3],\n",
    "       [4,0,5,0,0,0,3,0,8],\n",
    "       [9,2,0,3,7,0,5,0,0],\n",
    "       [7,6,0,0,0,0,0,2,0],\n",
    "       [0,0,0,4,9,0,8,3,2],\n",
    "       [3,0,6,0,0,0,0,4,5],\n",
    "       [0,0,4,0,5,0,1,9,6]]\n",
    "\n",
    "# print(np.matrix(grid))\n",
    "\n",
    "def is_Number_Possible(row, column, number):\n",
    "    global grid\n",
    "    \n",
    "    for i in range(9):\n",
    "        # check if number is present in the given row\n",
    "        if grid[row][i] == number:\n",
    "            return False\n",
    "        \n",
    "        # check if number is present in the given colunm\n",
    "        if grid[i][column] == number:\n",
    "            return False\n",
    "    \n",
    "    # check if number is present in the given square\n",
    "    new_row = (row // 3) * 3\n",
    "    new_column = (column // 3) * 3\n",
    "    for i in range(new_row, new_row+3):\n",
    "        for j in range(new_column, new_column+3):\n",
    "            if grid[i][j] == number:\n",
    "                return False\n",
    "            \n",
    "    return True\n",
    "\n",
    "def Sudoku_Solver():\n",
    "    global grid\n",
    "    for row in range(9):\n",
    "        for column in range(9):\n",
    "            if grid[row][column] == 0:\n",
    "                for number in range(1,10):\n",
    "                    if is_Number_Possible(row, column, number):\n",
    "                        grid[row][column] = number\n",
    "                        Sudoku_Solver()\n",
    "                        grid[row][column] = 0          # Backtracking\n",
    "                return\n",
    "    print(np.matrix(grid))\n",
    "    \n",
    "    \n",
    "Sudoku_Solver()"
   ]
  },
  {
   "cell_type": "code",
   "execution_count": null,
   "id": "5c8d62eb",
   "metadata": {},
   "outputs": [],
   "source": []
  }
 ],
 "metadata": {
  "kernelspec": {
   "display_name": "Python 3 (ipykernel)",
   "language": "python",
   "name": "python3"
  },
  "language_info": {
   "codemirror_mode": {
    "name": "ipython",
    "version": 3
   },
   "file_extension": ".py",
   "mimetype": "text/x-python",
   "name": "python",
   "nbconvert_exporter": "python",
   "pygments_lexer": "ipython3",
   "version": "3.9.7"
  }
 },
 "nbformat": 4,
 "nbformat_minor": 5
}
